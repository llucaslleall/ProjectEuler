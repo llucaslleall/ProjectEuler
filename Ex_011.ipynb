{
 "cells": [
  {
   "cell_type": "code",
   "execution_count": 110,
   "metadata": {},
   "outputs": [],
   "source": [
    "# Importando o arquivo\n",
    "arquivo = open(\"dados_ex11.txt\",\"r\")"
   ]
  },
  {
   "cell_type": "code",
   "execution_count": 111,
   "metadata": {},
   "outputs": [],
   "source": [
    "# Vamos criar um texto pegando cada linha desse arquivo que importamos\n",
    "texto = ''\n",
    "\n",
    "for linha in arquivo:\n",
    "    texto += linha"
   ]
  },
  {
   "cell_type": "code",
   "execution_count": 112,
   "metadata": {},
   "outputs": [],
   "source": [
    "# Criando a matriz que vai receber as informações\n",
    "matriz = []\n",
    "\n",
    "# Separando o texto por linha\n",
    "texto_linha = texto.split('\\n')"
   ]
  },
  {
   "cell_type": "code",
   "execution_count": 113,
   "metadata": {},
   "outputs": [],
   "source": [
    "# Criando uma matriz com cada um dos elementos\n",
    "for i in texto_linha:\n",
    "    linha_i = i.split(' ')\n",
    "    matriz.append(linha_i)"
   ]
  },
  {
   "cell_type": "code",
   "execution_count": 118,
   "metadata": {},
   "outputs": [],
   "source": [
    "# Vamos seguir uma lógica bem similar ao ex 8\n",
    "# Número de dígitos solicitado\n",
    "num = 4\n",
    "\n",
    "i = 0\n",
    "j = 0\n",
    "maior_prod = 0\n",
    "\n",
    "# Percorrendo cada uma das linhas\n",
    "while i < len(matriz):\n",
    "    # print('******')\n",
    "    # print('i: '+str(i))    \n",
    "    \n",
    "    j = 0\n",
    "    while j < len(matriz[i])-num+1:\n",
    "        # print('******')\n",
    "        # print('j: '+str(j))        \n",
    "        prod_teste = 1\n",
    "        \n",
    "        k = j\n",
    "        while k < j+num:\n",
    "            # print(matriz[i][k])\n",
    "            prod_teste *= int(matriz[i][k])\n",
    "            k += 1 \n",
    "            \n",
    "        # Sempre vamos substituir o valor do produto que queremos se o valor encontrado for maior que ele    \n",
    "        if(prod_teste > maior_prod):\n",
    "            maior_prod = prod_teste\n",
    "            \n",
    "        j += 1\n",
    "    i += 1     "
   ]
  },
  {
   "cell_type": "code",
   "execution_count": 119,
   "metadata": {},
   "outputs": [],
   "source": [
    "i = 0\n",
    "j = 0\n",
    "\n",
    "# Percorrendo cada uma das colunas\n",
    "while j < len(matriz[i]):\n",
    "    # print('******')\n",
    "    # print('j: '+str(j))  \n",
    "    \n",
    "    i = 0\n",
    "    while i < len(matriz)-num+1:\n",
    "        # print('******')\n",
    "        # print('i: '+str(i)) \n",
    "        \n",
    "        prod_teste = 1\n",
    "        \n",
    "        k = i\n",
    "        while k < i+num:\n",
    "            # print(matriz[k][j])\n",
    "            prod_teste *= int(matriz[k][j])\n",
    "            k += 1 \n",
    "            \n",
    "        # Sempre vamos substituir o valor do produto que queremos se o valor encontrado for maior que ele    \n",
    "        if(prod_teste > maior_prod):\n",
    "            maior_prod = prod_teste\n",
    "            \n",
    "        i += 1\n",
    "    j += 1       "
   ]
  },
  {
   "cell_type": "code",
   "execution_count": 120,
   "metadata": {},
   "outputs": [],
   "source": [
    "i = 0\n",
    "j = 0\n",
    "\n",
    "# Percorrendo cada uma das diagonais para a direita e para baixo\n",
    "# Deixei os comentários que foram me ajudando a criar essa parte do código\n",
    "while i < len(matriz)-num+1:\n",
    "    # print('******')\n",
    "    # print('i: '+str(i))\n",
    "    j = 0\n",
    "    while j < len(matriz[i])-num+1:\n",
    "        # print('******')\n",
    "        # print('j: '+str(j))        \n",
    "        prod_teste = 1\n",
    "        \n",
    "        k = 0\n",
    "        while k < num:\n",
    "            # print(matriz[i+k][j+k])\n",
    "            prod_teste *= int(matriz[i+k][j+k])\n",
    "            k += 1         \n",
    "            \n",
    "        # Sempre vamos substituir o valor do produto que queremos se o valor encontrado for maior que ele    \n",
    "        if(prod_teste > maior_prod):\n",
    "            maior_prod = prod_teste            \n",
    "            \n",
    "        # print('-----')    \n",
    "        j += 1\n",
    "    i += 1"
   ]
  },
  {
   "cell_type": "code",
   "execution_count": 128,
   "metadata": {},
   "outputs": [],
   "source": [
    "i = 0\n",
    "j = len(matriz[i])-1\n",
    "\n",
    "# Percorrendo cada uma das diagonais para a esquerda e para baixo\n",
    "# Deixei os comentários que foram me ajudando a criar essa parte do código\n",
    "while i < len(matriz)-num+1:\n",
    "    # print('******')\n",
    "    # print('i: '+str(i))\n",
    "    j = len(matriz[i])-1\n",
    "    while j > 0:\n",
    "        # print('******')\n",
    "        # print('j: '+str(j))        \n",
    "        prod_teste = 1\n",
    "        \n",
    "        k = 0\n",
    "        while k < num:\n",
    "            # print(matriz[i+k][j-k])\n",
    "            prod_teste *= int(matriz[i+k][j-k])\n",
    "            k += 1         \n",
    "            \n",
    "        # Sempre vamos substituir o valor do produto que queremos se o valor encontrado for maior que ele    \n",
    "        if(prod_teste > maior_prod):\n",
    "            maior_prod = prod_teste            \n",
    "            \n",
    "        # print('-----')    \n",
    "        j -= 1\n",
    "    i += 1"
   ]
  },
  {
   "cell_type": "code",
   "execution_count": 129,
   "metadata": {},
   "outputs": [
    {
     "data": {
      "text/plain": [
       "70600674"
      ]
     },
     "execution_count": 129,
     "metadata": {},
     "output_type": "execute_result"
    }
   ],
   "source": [
    "maior_prod"
   ]
  }
 ],
 "metadata": {
  "kernelspec": {
   "display_name": "Python 3",
   "language": "python",
   "name": "python3"
  },
  "language_info": {
   "codemirror_mode": {
    "name": "ipython",
    "version": 3
   },
   "file_extension": ".py",
   "mimetype": "text/x-python",
   "name": "python",
   "nbconvert_exporter": "python",
   "pygments_lexer": "ipython3",
   "version": "3.7.6"
  }
 },
 "nbformat": 4,
 "nbformat_minor": 4
}
