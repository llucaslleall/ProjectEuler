{
 "cells": [
  {
   "cell_type": "code",
   "execution_count": 24,
   "metadata": {},
   "outputs": [],
   "source": [
    "#Definindo a função de calcular o quadrado\n",
    "\n",
    "def soma_quadrado(a,b):\n",
    "    \n",
    "    # Calculando o valor de c\n",
    "    c = (a**2 + b**2)**(1/2)\n",
    "    \n",
    "    # Fazendo a soma de a, b, c\n",
    "    soma = a + b + c\n",
    "    \n",
    "    # Vai retornar um array com 2 valores: c e a soma\n",
    "    return [c,soma]"
   ]
  },
  {
   "cell_type": "code",
   "execution_count": 38,
   "metadata": {},
   "outputs": [
    {
     "data": {
      "text/plain": [
       "[5.0, 12.0]"
      ]
     },
     "execution_count": 38,
     "metadata": {},
     "output_type": "execute_result"
    }
   ],
   "source": [
    "#Testando a função\n",
    "soma_quadrado(3,4)"
   ]
  },
  {
   "cell_type": "code",
   "execution_count": 39,
   "metadata": {},
   "outputs": [
    {
     "name": "stdout",
     "output_type": "stream",
     "text": [
      "a: 200, b: 375, c: 425.0\n",
      "a x b x c = 31875000\n"
     ]
    }
   ],
   "source": [
    "# Definindo o valor máximo\n",
    "limite_c = 1000\n",
    "\n",
    "b = 0\n",
    "\n",
    "while b < limite_c:\n",
    "    a = 0\n",
    "    while a < limite_c:\n",
    "        \n",
    "        # Chamando a função que foi criada\n",
    "        resultado_c = soma_quadrado(a,b)\n",
    "        \n",
    "        # Validando se o resultado da soma foi 1.000 e se atende a condição a < b < c \n",
    "        if(resultado_c[1] == 1000 and a < b < resultado_c[0]):\n",
    "            print('a: ' + str(a) + ', b: ' + str(b) + ', c: ' + str(resultado_c[0]))\n",
    "            print('a x b x c = ' + str(int(a*b*resultado_c[0])))\n",
    "            \n",
    "            # Garantindo a finalização de todos os laços\n",
    "            a = b = limite_c\n",
    "            \n",
    "        a += 1\n",
    "    b += 1"
   ]
  }
 ],
 "metadata": {
  "kernelspec": {
   "display_name": "Python 3",
   "language": "python",
   "name": "python3"
  },
  "language_info": {
   "codemirror_mode": {
    "name": "ipython",
    "version": 3
   },
   "file_extension": ".py",
   "mimetype": "text/x-python",
   "name": "python",
   "nbconvert_exporter": "python",
   "pygments_lexer": "ipython3",
   "version": "3.7.6"
  }
 },
 "nbformat": 4,
 "nbformat_minor": 4
}
