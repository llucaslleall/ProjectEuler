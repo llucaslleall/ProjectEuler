{
 "cells": [
  {
   "cell_type": "code",
   "execution_count": 80,
   "metadata": {},
   "outputs": [],
   "source": [
    "# Iniciando os elementos\n",
    "matriz = [20,20]"
   ]
  },
  {
   "cell_type": "markdown",
   "metadata": {},
   "source": [
    "Eu já trabalhei como monitor de matemática, então esse era um exercício que sempre aparecia na monitoria\n",
    "\n",
    "Para resolver, a gente pode usar que ele deve ir 2 vezes para a direita e então 2 vezes para baixo (na matriz 2x2)\n",
    "Então ele deve percorrer o caminho DDBB (D = direita e B = baixo)\n",
    "\n",
    "Só que ele pode primeiro ir para baixo depois direita ...\n",
    "Ou fazer qualquer outro caminho\n",
    "\n",
    "Para considerar todos os caminhos, podemos permutar o DDBB (sendo uma permutação com repetição)\n",
    "\n",
    "A permutação com repetição de 4 elementos e repetição de 2 D e 2 B é dada por:\n",
    "4!/(2!*2!)"
   ]
  },
  {
   "cell_type": "code",
   "execution_count": 81,
   "metadata": {},
   "outputs": [],
   "source": [
    "# Total de rotas\n",
    "# rotas = (total de linhas + colunas)!/(número de linhas)!*(número de colunas)! "
   ]
  },
  {
   "cell_type": "code",
   "execution_count": 82,
   "metadata": {},
   "outputs": [],
   "source": [
    "# Como vamos precisar calcular o fatorial, podemos criar essa função\n",
    "def calcula_fatorial(n):\n",
    "    fat = 1 \n",
    "    while n > 1:\n",
    "        fat *= n\n",
    "        n -= 1\n",
    "    \n",
    "    return fat"
   ]
  },
  {
   "cell_type": "code",
   "execution_count": 83,
   "metadata": {},
   "outputs": [],
   "source": [
    "rotas = (calcula_fatorial(matriz[0]+matriz[1]))/((calcula_fatorial(matriz[0]))*(calcula_fatorial(matriz[1])))"
   ]
  },
  {
   "cell_type": "code",
   "execution_count": 86,
   "metadata": {},
   "outputs": [
    {
     "name": "stdout",
     "output_type": "stream",
     "text": [
      "137846528820\n"
     ]
    }
   ],
   "source": [
    "print(int(rotas))"
   ]
  }
 ],
 "metadata": {
  "kernelspec": {
   "display_name": "Python 3",
   "language": "python",
   "name": "python3"
  },
  "language_info": {
   "codemirror_mode": {
    "name": "ipython",
    "version": 3
   },
   "file_extension": ".py",
   "mimetype": "text/x-python",
   "name": "python",
   "nbconvert_exporter": "python",
   "pygments_lexer": "ipython3",
   "version": "3.7.6"
  }
 },
 "nbformat": 4,
 "nbformat_minor": 4
}
