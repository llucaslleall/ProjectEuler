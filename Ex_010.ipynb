{
 "cells": [
  {
   "cell_type": "code",
   "execution_count": 1,
   "metadata": {},
   "outputs": [],
   "source": [
    "# No ex 7 já temos o código abaixo que fala de números primos\n",
    "# Porém no 7 ele coloca um limite"
   ]
  },
  {
   "cell_type": "code",
   "execution_count": 3,
   "metadata": {},
   "outputs": [
    {
     "data": {
      "text/plain": [
       "104743"
      ]
     },
     "execution_count": 3,
     "metadata": {},
     "output_type": "execute_result"
    }
   ],
   "source": [
    "# Exercício 7\n",
    "\n",
    "# Número de elementos que vamos buscar\n",
    "num = 10001\n",
    "\n",
    "# Vamos começar do 3 e já considerar o 2 na lista para poder desconsiderar os números pares\n",
    "i = 3\n",
    "num_primos = [2]\n",
    "\n",
    "# Enquanto a lista não tiver o número selecionado de elementos, vamos continuar buscando novos números primos\n",
    "while len(num_primos) < num:\n",
    "    \n",
    "    cont = 0\n",
    "    \n",
    "    # Para saber se o número é primo basta verificar se ele é divisor de algum primo já encontrado\n",
    "    # (todo número pode ser escrito como uma composição de números primos)\n",
    "    for j in num_primos:\n",
    "        if(i%j == 0):\n",
    "            cont = cont + 1 \n",
    "            \n",
    "        # Se o número tiver um divisor primo já podemos desconsiderar pois ele não é primo\n",
    "        # (números primos só são divisíveis por 1 e ele mesmo - nem 1 nem ele mesmo estão na lista)\n",
    "        if(cont > 0):\n",
    "            break;\n",
    "            \n",
    "    # Se não tiver nenhum divisor, vamos incluir esse número na lista dos primos       \n",
    "    if(cont == 0):\n",
    "        num_primos.append(i)\n",
    "        \n",
    "    # Vamos sempre adicionar 2 ao contador para não precisar considerar os números pares (único par primo é o 2)\n",
    "    i += 2\n",
    "    \n",
    "num_primos[-1]"
   ]
  },
  {
   "cell_type": "code",
   "execution_count": 15,
   "metadata": {},
   "outputs": [
    {
     "name": "stdout",
     "output_type": "stream",
     "text": [
      "2000003\n",
      "1999993\n"
     ]
    }
   ],
   "source": [
    "# Limite do número\n",
    "num = 2000000\n",
    "\n",
    "# Vamos começar do 3 e já considerar o 2 na lista para poder desconsiderar os números pares\n",
    "i = 3\n",
    "num_primos = [2]\n",
    "\n",
    "# AQUI VAMOS DIFERENCIAR DO EXERCÍCIO 7\n",
    "# Nesse caso, vamos executar até encontrar o primeiro valor acima de 2.000.000\n",
    "while num_primos[-1] < num:\n",
    "    \n",
    "    cont = 0\n",
    "    \n",
    "    # AQUI TAMBÉM VAMOS DIFERENCIAR DO EXERCÍCIO 7\n",
    "    # Criando o contador j e o valor \n",
    "    j = 0\n",
    "    valor = 0\n",
    "    \n",
    "    # Para saber se o número é primo basta verificar se ele é divisor de algum primo já encontrado\n",
    "    # (todo número pode ser escrito como uma composição de números primos)\n",
    "    # Não é necessário ir até o último número primo, podemos ir até a raiz do número\n",
    "    while valor < i**(1/2):\n",
    "        \n",
    "        # Pegando todos os valores da lista\n",
    "        valor = num_primos[j]\n",
    "        \n",
    "        if(i%valor == 0):\n",
    "            cont = cont + 1 \n",
    "            \n",
    "            # Se o número tiver um divisor primo já podemos desconsiderar pois ele não é primo\n",
    "            # (números primos só são divisíveis por 1 e ele mesmo - nem 1 nem ele mesmo estão na lista)\n",
    "            break\n",
    "        \n",
    "        j += 1\n",
    "            \n",
    "    # Se não tiver nenhum divisor, vamos incluir esse número na lista dos primos       \n",
    "    if(cont == 0):\n",
    "        num_primos.append(i)\n",
    "        \n",
    "    # Vamos sempre adicionar 2 ao contador para não precisar considerar os números pares (único par primo é o 2)\n",
    "    i += 2\n",
    "    \n",
    "# Exibindo o último número\n",
    "print(num_primos[-1])\n",
    "\n",
    "# Como vamos ter o valor acima de 2.000.000 na lista, precisamos retirar esse valor\n",
    "num_primos.pop(-1)\n",
    "\n",
    "# Validando o último número\n",
    "print(num_primos[-1])"
   ]
  },
  {
   "cell_type": "code",
   "execution_count": 16,
   "metadata": {},
   "outputs": [
    {
     "name": "stdout",
     "output_type": "stream",
     "text": [
      "142913828922\n"
     ]
    }
   ],
   "source": [
    "# Iniciando a variável onde vamos guardar a soma\n",
    "soma = 0\n",
    "\n",
    "# Somando para todos os valores\n",
    "for i in num_primos:\n",
    "    soma += i\n",
    "\n",
    "print(soma)"
   ]
  }
 ],
 "metadata": {
  "kernelspec": {
   "display_name": "Python 3",
   "language": "python",
   "name": "python3"
  },
  "language_info": {
   "codemirror_mode": {
    "name": "ipython",
    "version": 3
   },
   "file_extension": ".py",
   "mimetype": "text/x-python",
   "name": "python",
   "nbconvert_exporter": "python",
   "pygments_lexer": "ipython3",
   "version": "3.7.6"
  }
 },
 "nbformat": 4,
 "nbformat_minor": 4
}
