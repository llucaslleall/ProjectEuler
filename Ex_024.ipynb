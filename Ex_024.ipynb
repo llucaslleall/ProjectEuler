{
 "cells": [
  {
   "cell_type": "code",
   "execution_count": 1,
   "metadata": {},
   "outputs": [
    {
     "data": {
      "text/plain": [
       "['012', '021', '102', '120', '201', '210']"
      ]
     },
     "execution_count": 1,
     "metadata": {},
     "output_type": "execute_result"
    }
   ],
   "source": [
    "def permuta(texto):\n",
    "     \n",
    "    # Transformando em texto para conseguirmos permutar\n",
    "    texto = str(texto)\n",
    "        \n",
    "    # Criando a lista que vai receber os valores do texto\n",
    "    posicoes = []\n",
    "    \n",
    "    # Primeiro criando uma lsita com todas as letras (ou números como letras)\n",
    "    i = 0\n",
    "    while i < len(texto):\n",
    "        posicoes.append(texto[i])\n",
    "        i += 1\n",
    "        \n",
    "    # Criando uma variável que vamos sempre guardar as novas permutações    \n",
    "    posicoes_novo = posicoes\n",
    "    \n",
    "    # E uma variável temporária para irmos criando as permutações em cada um dos processos\n",
    "    posicoes_temp = []\n",
    "    \n",
    "    # Vamos executar até satisfazer a nossa condição\n",
    "    while True:\n",
    "\n",
    "        # Primeiro vamos buscar na última lista de permutação que temos guardado\n",
    "        for i in posicoes_novo:\n",
    "            \n",
    "            # E então pegar a lista de letras para criar o próximo step da permutação\n",
    "            for j in posicoes:\n",
    "                \n",
    "                # Como não vamos repetir as letras, só vamos adicionar a nova lista se a letra ainda não tiver sido usada\n",
    "                if(j not in i):\n",
    "                    posicoes_temp.append(i+j)   \n",
    "                    \n",
    "        # Depois de criar a nova lista, vamos repetir o processo            \n",
    "        posicoes_novo = posicoes_temp\n",
    "        posicoes_temp = []\n",
    "        \n",
    "        # Esse processo será finalizado após fazermos a permutação de todos os valores       \n",
    "        if(len(posicoes_novo[-1]) == len(texto)):\n",
    "            break\n",
    "\n",
    "    return posicoes_novo\n",
    " \n",
    "# Testando para o exemplo    \n",
    "permuta('012')"
   ]
  },
  {
   "cell_type": "code",
   "execution_count": 20,
   "metadata": {},
   "outputs": [],
   "source": [
    "# Fazendo as permutações dos números de 0 a 9\n",
    "valores_permuta = permuta('0123456789')"
   ]
  },
  {
   "cell_type": "code",
   "execution_count": 23,
   "metadata": {},
   "outputs": [
    {
     "data": {
      "text/plain": [
       "'2783915460'"
      ]
     },
     "execution_count": 23,
     "metadata": {},
     "output_type": "execute_result"
    }
   ],
   "source": [
    "# Retornando a milionésima permutação\n",
    "valor = 1000000\n",
    "\n",
    "# Vamos retirar 1 pois a contagem começa no 0\n",
    "valores_permuta[valor-1]"
   ]
  }
 ],
 "metadata": {
  "kernelspec": {
   "display_name": "Python 3",
   "language": "python",
   "name": "python3"
  },
  "language_info": {
   "codemirror_mode": {
    "name": "ipython",
    "version": 3
   },
   "file_extension": ".py",
   "mimetype": "text/x-python",
   "name": "python",
   "nbconvert_exporter": "python",
   "pygments_lexer": "ipython3",
   "version": "3.7.6"
  }
 },
 "nbformat": 4,
 "nbformat_minor": 4
}
