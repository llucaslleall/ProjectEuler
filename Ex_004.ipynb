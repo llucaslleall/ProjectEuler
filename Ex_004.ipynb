{
 "cells": [
  {
   "cell_type": "code",
   "execution_count": 8,
   "metadata": {},
   "outputs": [],
   "source": [
    "# Definição uma função para validar se o número é palíndromo\n",
    "\n",
    "# Vamos receber o produto\n",
    "def valida_palindromo(produto):\n",
    "    \n",
    "    # Transformar em string para conseguirmos fazer essa comparação dos números\n",
    "    produto = str(produto)\n",
    "    \n",
    "    pos = 0\n",
    "    while pos < len(produto):\n",
    "        \n",
    "        # Vamos percorrer todo o número para validar se cada elemento é igual ao seu correspondente indo do final para o início\n",
    "        if(produto[pos] != produto[-pos-1]):\n",
    "            # Se 1 deles já for diferente podemos parar pois não é palíndromo\n",
    "            return False\n",
    "            break;    \n",
    "        pos += 1\n",
    "       \n",
    "    # Se não entrar no if, é que todos são iguais, então podemos retornar True validando que o número é palíndromo\n",
    "    return True"
   ]
  },
  {
   "cell_type": "code",
   "execution_count": 11,
   "metadata": {},
   "outputs": [
    {
     "name": "stdout",
     "output_type": "stream",
     "text": [
      "Digite a quantidade de dígitos: 3\n"
     ]
    }
   ],
   "source": [
    "# Permitindo o usuário definir a quantidade de dígitos\n",
    "digitos = input('Digite a quantidade de dígitos: ')"
   ]
  },
  {
   "cell_type": "code",
   "execution_count": 12,
   "metadata": {},
   "outputs": [],
   "source": [
    "# Como vamos ter que percorrer até o maior número com a quantidade de dígitos, podemos definir esse número\n",
    "\n",
    "# Uma string multipliciada por um inteiro retorna o valor dessa string aquele número de vezes\n",
    "# Ex: 'a'*3 = 'aaa'  // 'b'*2 = 'bb' // '9'*3 = '999' (onde '9' é uma string)\n",
    "\n",
    "# Depois precisamos converter para inteiro para fazer as operações\n",
    "n1 = int(str(9)*int(digitos))"
   ]
  },
  {
   "cell_type": "code",
   "execution_count": 13,
   "metadata": {},
   "outputs": [
    {
     "data": {
      "text/plain": [
       "999"
      ]
     },
     "execution_count": 13,
     "metadata": {},
     "output_type": "execute_result"
    }
   ],
   "source": [
    "n1"
   ]
  },
  {
   "cell_type": "code",
   "execution_count": 15,
   "metadata": {},
   "outputs": [],
   "source": [
    "palindromo = 0\n",
    "\n",
    "# Vamos começar a percorrer no primeiro número com a quantidade de dígitos selecionada \n",
    "# Ex: para 3 dígitos, vamos começar no 100\n",
    "while n1 >= 10**(len(str(n1))-1):\n",
    "    n2 = n1\n",
    "    while n2 >= 10**(len(str(n1))-1):\n",
    "        produto = n1*n2\n",
    "        \n",
    "        # Chamando a função de validar se o número é palíndromo\n",
    "        Valida = valida_palindromo(produto)\n",
    "        \n",
    "        # Se for verdadeiro\n",
    "        if(Valida):\n",
    "            \n",
    "            # Validar se o produto encontrado é maior que o último produto, se for esse vai ser o maior palíndromo\n",
    "            if produto > palindromo:\n",
    "                palindromo = produto\n",
    "        n2 -= 1\n",
    "    n1 -= 1"
   ]
  },
  {
   "cell_type": "code",
   "execution_count": 16,
   "metadata": {},
   "outputs": [
    {
     "data": {
      "text/plain": [
       "906609"
      ]
     },
     "execution_count": 16,
     "metadata": {},
     "output_type": "execute_result"
    }
   ],
   "source": [
    "palindromo"
   ]
  }
 ],
 "metadata": {
  "kernelspec": {
   "display_name": "Python 3",
   "language": "python",
   "name": "python3"
  },
  "language_info": {
   "codemirror_mode": {
    "name": "ipython",
    "version": 3
   },
   "file_extension": ".py",
   "mimetype": "text/x-python",
   "name": "python",
   "nbconvert_exporter": "python",
   "pygments_lexer": "ipython3",
   "version": "3.7.6"
  }
 },
 "nbformat": 4,
 "nbformat_minor": 4
}
