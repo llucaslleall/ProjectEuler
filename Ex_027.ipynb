{
 "cells": [
  {
   "cell_type": "code",
   "execution_count": 7,
   "metadata": {},
   "outputs": [],
   "source": [
    "# VAMOS USAR UMA LÓGICA PRÓXIMA AO QUE FIZEMOS NO EXERCÍCIO 3 PARA BUSCAR A LISTA DE NÚMEROS PRIMOS\n",
    "#Declarando a lista com os 2 primeiros números primos\n",
    "num_primos = [2,3]"
   ]
  },
  {
   "cell_type": "code",
   "execution_count": 18,
   "metadata": {},
   "outputs": [],
   "source": [
    "#SÓ QUE AGORA VAMOS BUSCAR OS NÚMEROS PRIMOS ATÉ O MAIOR VALOR DO CÁLCULO ACIMA\n",
    "def calcula_primos(num_primos, maximo):\n",
    "    for i in range(num_primos[-1],maximo+1,2):\n",
    "        cont = 0\n",
    "        \n",
    "        # Como todo número pode ser escrito pela composição de números primos, eu só preciso procurar se existe divisor nessa lista\n",
    "        for j in num_primos:\n",
    "            if(i%j == 0):\n",
    "                cont = cont + 1 \n",
    "            # Se tiver 1 divisor nessa lista já podemos passar para o próximo valor pois não é primo\n",
    "            if(cont > 0):\n",
    "                break;\n",
    "                \n",
    "        # Se não foi encontrado nenhum divisor (não consideramos o 1 e ele mesmo ainda não estará na lista) vamos adicionar a lista de primos\n",
    "        if(cont == 0):\n",
    "            #Incluindo o valor no final da lista\n",
    "            num_primos.append(i)\n",
    "            \n",
    "    return num_primos"
   ]
  },
  {
   "cell_type": "code",
   "execution_count": 29,
   "metadata": {},
   "outputs": [],
   "source": [
    "# Percorrendo para módulo de a < 1000 e módulo de b <= 1000:\n",
    "a = -999\n",
    "n_max = 0\n",
    "a_max = a\n",
    "b_max = b\n",
    "\n",
    "while a < 1000:\n",
    "    \n",
    "    b = -1000\n",
    "    while b < 1000:\n",
    "        n = 0\n",
    "        \n",
    "        # Vamos executar até encontrar um n que nao seja primo\n",
    "        while True:\n",
    "            valor_calculo = n**2 + a*n + b\n",
    "            \n",
    "            # Verificando se esse valor é primo\n",
    "            # Primeiro vamos ver se ele é maior que o último primo encontrado\n",
    "            if(num_primos[-1] < valor_calculo):\n",
    "                \n",
    "                # Se for, vamos buscar os números primos até esse valor\n",
    "                num_primos = calcula_primos(num_primos, valor_calculo)\n",
    "                \n",
    "            # Depois vamos ver se esse valor está na lista dos primos, se nao tiver vamos parar\n",
    "            if(valor_calculo not in num_primos):\n",
    "                break\n",
    "            else:\n",
    "                n += 1\n",
    "                \n",
    "        if(n > n_max):\n",
    "            n_max = n\n",
    "            a_max = a\n",
    "            b_max = b\n",
    "        \n",
    "        b += 1\n",
    "    a += 1"
   ]
  },
  {
   "cell_type": "code",
   "execution_count": 30,
   "metadata": {},
   "outputs": [
    {
     "name": "stdout",
     "output_type": "stream",
     "text": [
      "71 -61 971\n"
     ]
    }
   ],
   "source": [
    "print(n_max, a_max, b_max)"
   ]
  },
  {
   "cell_type": "code",
   "execution_count": 31,
   "metadata": {},
   "outputs": [
    {
     "data": {
      "text/plain": [
       "-59231"
      ]
     },
     "execution_count": 31,
     "metadata": {},
     "output_type": "execute_result"
    }
   ],
   "source": [
    "# Fazendo o produto de a e b\n",
    "a_max*b_max"
   ]
  }
 ],
 "metadata": {
  "kernelspec": {
   "display_name": "Python 3",
   "language": "python",
   "name": "python3"
  },
  "language_info": {
   "codemirror_mode": {
    "name": "ipython",
    "version": 3
   },
   "file_extension": ".py",
   "mimetype": "text/x-python",
   "name": "python",
   "nbconvert_exporter": "python",
   "pygments_lexer": "ipython3",
   "version": "3.8.5"
  }
 },
 "nbformat": 4,
 "nbformat_minor": 4
}
