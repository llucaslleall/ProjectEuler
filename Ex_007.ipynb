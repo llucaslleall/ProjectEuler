{
 "cells": [
  {
   "cell_type": "code",
   "execution_count": 5,
   "metadata": {},
   "outputs": [],
   "source": [
    "# Número de elementos que vamos buscar\n",
    "num = 10001\n",
    "\n",
    "# Vamos começar do 3 e já considerar o 2 na lista para poder desconsiderar os números pares\n",
    "i = 3\n",
    "num_primos = [2]\n",
    "\n",
    "# Enquanto a lista não tiver o número selecionado de elementos, vamos continuar buscando novos números primos\n",
    "while len(num_primos) < num:\n",
    "    \n",
    "    cont = 0\n",
    "    \n",
    "    # Para saber se o número é primo basta verificar se ele é divisor de algum primo já encontrado\n",
    "    # (todo número pode ser escrito como uma composição de números primos)\n",
    "    for j in num_primos:\n",
    "        if(i%j == 0):\n",
    "            cont = cont + 1 \n",
    "            \n",
    "        # Se o número tiver um divisor primo já podemos desconsiderar pois ele não é primo\n",
    "        # (números primos só são divisíveis por 1 e ele mesmo - nem 1 nem ele mesmo estão na lista)\n",
    "        if(cont > 0):\n",
    "            break;\n",
    "            \n",
    "    # Se não tiver nenhum divisor, vamos incluir esse número na lista dos primos       \n",
    "    if(cont == 0):\n",
    "        num_primos.append(i)\n",
    "        \n",
    "    # Vamos sempre adicionar 2 ao contador para não precisar considerar os números pares (único par primo é o 2)\n",
    "    i += 2"
   ]
  },
  {
   "cell_type": "code",
   "execution_count": 9,
   "metadata": {},
   "outputs": [
    {
     "data": {
      "text/plain": [
       "104743"
      ]
     },
     "execution_count": 9,
     "metadata": {},
     "output_type": "execute_result"
    }
   ],
   "source": [
    "num_primos[-1]"
   ]
  }
 ],
 "metadata": {
  "kernelspec": {
   "display_name": "Python 3",
   "language": "python",
   "name": "python3"
  },
  "language_info": {
   "codemirror_mode": {
    "name": "ipython",
    "version": 3
   },
   "file_extension": ".py",
   "mimetype": "text/x-python",
   "name": "python",
   "nbconvert_exporter": "python",
   "pygments_lexer": "ipython3",
   "version": "3.7.6"
  }
 },
 "nbformat": 4,
 "nbformat_minor": 4
}
