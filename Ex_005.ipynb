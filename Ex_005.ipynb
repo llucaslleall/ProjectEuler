{
 "cells": [
  {
   "cell_type": "code",
   "execution_count": 1,
   "metadata": {},
   "outputs": [],
   "source": [
    "# 2520 is the smallest number that can be divided by each of the numbers from 1 to 10 without any remainder."
   ]
  },
  {
   "cell_type": "code",
   "execution_count": 1,
   "metadata": {},
   "outputs": [],
   "source": [
    "# Definindo o limite de números\n",
    "num = 20\n",
    "\n",
    "valor = 0\n",
    "\n",
    "# Criando a lista\n",
    "lista = list(range(1,num+1))"
   ]
  },
  {
   "cell_type": "code",
   "execution_count": 2,
   "metadata": {},
   "outputs": [
    {
     "data": {
      "text/plain": [
       "[1, 2, 3, 4, 5, 6, 7, 8, 9, 10, 11, 12, 13, 14, 15, 16, 17, 18, 19, 20]"
      ]
     },
     "execution_count": 2,
     "metadata": {},
     "output_type": "execute_result"
    }
   ],
   "source": [
    "lista"
   ]
  },
  {
   "cell_type": "code",
   "execution_count": 3,
   "metadata": {},
   "outputs": [
    {
     "name": "stdout",
     "output_type": "stream",
     "text": [
      "232792560\n"
     ]
    }
   ],
   "source": [
    "# Vamos executar até encontrar o número buscado\n",
    "while True:\n",
    "    \n",
    "    # Adicionando sempre o último elemento da lista pois para ser múltiplo de todos ele deve ser múltiplo do último também\n",
    "    # Assim conseguimos testar menos números e otimizamos o código\n",
    "    valor += lista[-1]\n",
    "    \n",
    "    divisores = 0\n",
    "    for i in lista:\n",
    "        \n",
    "        # Verificando se o número é divisor de todos os elementos da lista\n",
    "        if valor % i == 0:\n",
    "            divisores += 1\n",
    "            \n",
    "        # Se não for de 1 deles, já podemos parar\n",
    "        else:\n",
    "            break\n",
    "            \n",
    "    # Se a quantidade de divisores encontrada for igual ao tamanho da lista, significa que todos os números da lista são divisores\n",
    "    # Nesse caso encontramos o número que buscamos e podemos parar\n",
    "    if(divisores == len(lista)):\n",
    "        break;\n",
    "        \n",
    "        \n",
    "print(valor)   "
   ]
  }
 ],
 "metadata": {
  "kernelspec": {
   "display_name": "Python 3",
   "language": "python",
   "name": "python3"
  },
  "language_info": {
   "codemirror_mode": {
    "name": "ipython",
    "version": 3
   },
   "file_extension": ".py",
   "mimetype": "text/x-python",
   "name": "python",
   "nbconvert_exporter": "python",
   "pygments_lexer": "ipython3",
   "version": "3.7.6"
  }
 },
 "nbformat": 4,
 "nbformat_minor": 4
}
