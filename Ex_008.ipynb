{
 "cells": [
  {
   "cell_type": "code",
   "execution_count": 38,
   "metadata": {},
   "outputs": [],
   "source": [
    "# Importando o arquivo\n",
    "arquivo = open(\"dados.txt\",\"r\")"
   ]
  },
  {
   "cell_type": "code",
   "execution_count": 39,
   "metadata": {},
   "outputs": [],
   "source": [
    "# Vamos criar um texto pegando cada linha desse arquivo que importamos\n",
    "texto = ''\n",
    "\n",
    "for linha in arquivo:\n",
    "    \n",
    "    # Não vamos considerar o último valor pois ele é o enter (quebra de linha)\n",
    "    texto += linha[0:len(linha)-1]"
   ]
  },
  {
   "cell_type": "code",
   "execution_count": 40,
   "metadata": {},
   "outputs": [
    {
     "name": "stdout",
     "output_type": "stream",
     "text": [
      "731671765313306249192251196744265747423553491949349698352031277450632623957831801698480186947885184385861560789112949495459501737958331952853208805511125406987471585238630507156932909632952274430435576689664895044524452316173185640309871112172238311362229893423380308135336276614282806444486645238749303589072962904915604407723907138105158593079608667017242712188399879790879227492190169972088809377665727333001053367881220235421809751254540594752243525849077116705560136048395864467063244157221553975369781797784617406495514929086256932197846862248283972241375657056057490261407972968652414535100474821663704844031998900088952434506585412275886668811642717147992444292823086346567481391912316282458617866458359124566529476545682848912883142607690042242190226710556263211111093705442175069416589604080719840385096245544436298123098787992724428490918884580156166097919133875499200524063689912560717606058861164671094050775410022569831552000559357297257163626956188267042825248360082325753042075296345\n"
     ]
    }
   ],
   "source": [
    "# Texto já desconsiderando a quebra de linhas\n",
    "print(texto)"
   ]
  },
  {
   "cell_type": "code",
   "execution_count": 41,
   "metadata": {},
   "outputs": [
    {
     "name": "stdout",
     "output_type": "stream",
     "text": [
      "23514624000\n"
     ]
    }
   ],
   "source": [
    "# Número de dígitos solicitado\n",
    "num = 13\n",
    "\n",
    "i = 0\n",
    "maior_prod = 0\n",
    "\n",
    "# Percorrendo todo o texto até chegar no último número de 13 dígitos possível\n",
    "# Obs: se fizermos len(texto) ele vai tentar fazer o último número vezes os 12 próximos, que não existem\n",
    "while i < len(texto)-num+1:\n",
    "    j = i\n",
    "    \n",
    "    # Definindo um produto que vamos testar\n",
    "    prod_teste = 1\n",
    "    \n",
    "    # Percorrendo o texto sempre pegando a quantidade de números solicitado\n",
    "    while j < num+i:\n",
    "        \n",
    "        # Fazendo o produto desses números\n",
    "        prod_teste *= int(texto[j])\n",
    "        \n",
    "        j += 1\n",
    "        \n",
    "    # Sempre vamos substituir o valor do produto que queremos se o valor encontrado for maior que ele    \n",
    "    if(prod_teste > maior_prod):\n",
    "        maior_prod = prod_teste\n",
    "        \n",
    "    i += 1\n",
    "\n",
    "print(maior_prod)"
   ]
  }
 ],
 "metadata": {
  "kernelspec": {
   "display_name": "Python 3",
   "language": "python",
   "name": "python3"
  },
  "language_info": {
   "codemirror_mode": {
    "name": "ipython",
    "version": 3
   },
   "file_extension": ".py",
   "mimetype": "text/x-python",
   "name": "python",
   "nbconvert_exporter": "python",
   "pygments_lexer": "ipython3",
   "version": "3.7.6"
  }
 },
 "nbformat": 4,
 "nbformat_minor": 4
}
