{
 "cells": [
  {
   "cell_type": "code",
   "execution_count": 470,
   "metadata": {},
   "outputs": [],
   "source": [
    "# Criando a função que vai calcular o período\n",
    "\n",
    "# Para isso vamos considerar que quando o resto voltar a ser um valor que já apareceu, aquele período vai se repetir!\n",
    "\n",
    "def calcula_periodo (num):\n",
    "    \n",
    "    # Como o numerador sempre começa com 1 e vai ser menor que o numerador, já podemos começar com o numerador * 10\n",
    "    dividendo = 1*10\n",
    "    \n",
    "    # Vamos guardar os restos para \n",
    "    lista_resto = []\n",
    "\n",
    "    # Vamos procurar até encontrar um resto que já apareceu\n",
    "    while True:\n",
    "        \n",
    "        # Fazendo o cálculo da divisão\n",
    "        divisor = num\n",
    "        quociente = dividendo // divisor\n",
    "        resto = dividendo % divisor\n",
    "\n",
    "        # Quando encontrarmos um resto que já apareceu, podemos parar pois sabemos que ele vai voltar a se repetir\n",
    "        if(resto in lista_resto):\n",
    "            break\n",
    "\n",
    "        # Enquanto não acharmos o período, sempre vamos multiplicar o resto por 10 e guardar esse valor na lista de restos\n",
    "        lista_resto.append(resto)\n",
    "        dividendo = resto * 10\n",
    "    \n",
    "    return len(lista_resto) - 1"
   ]
  },
  {
   "cell_type": "code",
   "execution_count": 471,
   "metadata": {},
   "outputs": [],
   "source": [
    "# Definindo os parâmetos\n",
    "limite = 1000\n",
    "d_max = 0\n",
    "val_max = 0\n",
    "d = 2\n",
    "\n",
    "while d < limite:\n",
    "    \n",
    "    # Chamando a função\n",
    "    val = calcula_periodo(d)\n",
    "    \n",
    "    # Validando se o valor encontrado é maior que o máximo encontrado anteriormente \n",
    "    # (se for, vamos passar a considerar esse valor como máximo)\n",
    "    if(val > val_max):\n",
    "        d_max = d\n",
    "        val_max = val\n",
    "    \n",
    "    d += 1  "
   ]
  },
  {
   "cell_type": "code",
   "execution_count": 472,
   "metadata": {},
   "outputs": [
    {
     "name": "stdout",
     "output_type": "stream",
     "text": [
      "983\n"
     ]
    }
   ],
   "source": [
    "print(d_max)"
   ]
  }
 ],
 "metadata": {
  "kernelspec": {
   "display_name": "Python 3",
   "language": "python",
   "name": "python3"
  },
  "language_info": {
   "codemirror_mode": {
    "name": "ipython",
    "version": 3
   },
   "file_extension": ".py",
   "mimetype": "text/x-python",
   "name": "python",
   "nbconvert_exporter": "python",
   "pygments_lexer": "ipython3",
   "version": "3.7.6"
  }
 },
 "nbformat": 4,
 "nbformat_minor": 4
}
