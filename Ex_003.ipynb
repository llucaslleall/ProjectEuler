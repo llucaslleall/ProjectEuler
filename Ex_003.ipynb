{
 "cells": [
  {
   "cell_type": "code",
   "execution_count": 1,
   "metadata": {},
   "outputs": [
    {
     "name": "stdout",
     "output_type": "stream",
     "text": [
      "6857\n"
     ]
    }
   ],
   "source": [
    "# Definindo o número limite\n",
    "num = 600851475143\n",
    "\n",
    "#Declarando a lista com os 2 primeiros números primos\n",
    "num_primos = [2,3]\n",
    "\n",
    "# Vamos fatorar o número até ele chegar em 1\n",
    "while num > 1:\n",
    "    \n",
    "    # Iniciamos a fatoração dividindo esse número por 2 quantas vezes ele for divisível\n",
    "    while num%2 == 0:\n",
    "        num = num/2\n",
    "        \n",
    "    # Depois vamos fazer isso para todo último número da lista\n",
    "    # (sempre vamos adicionar um novo número, então vai sempre entrar nesse processo)\n",
    "    while num%num_primos[-1] == 0:\n",
    "        num = num/num_primos[-1]\n",
    "        \n",
    "    # Enquanto eu não chegar na fatoração completa, eu vou buscando o próximo número primo para continuar fatorando\n",
    "    # Número primo: só tem 2 divisores positivos\n",
    "    \n",
    "    # Começo a busca do último primo encontrado e vou buscar até o próprio número + 1 (range é exclusive no segundo parâmetro)\n",
    "    # Vamos fazer o passo 2 pois não precisamos considerar números pares\n",
    "    for i in range(num_primos[-1],int(num)+1,2):\n",
    "        cont = 0\n",
    "        \n",
    "        # Como todo número pode ser escrito pela composição de números primos, eu só preciso procurar se existe divisor nessa lista\n",
    "        for j in num_primos:\n",
    "            if(i%j == 0):\n",
    "                cont = cont + 1 \n",
    "            # Se tiver 1 divisor nessa lista já podemos passar para o próximo valor pois não é primo\n",
    "            if(cont > 0):\n",
    "                break;\n",
    "                \n",
    "        # Se não foi encontrado nenhum divisor (não consideramos o 1 e ele mesmo ainda não estará na lista) vamos adicionar a lista de primos\n",
    "        if(cont == 0):\n",
    "            #Incluindo o valor no final da lista\n",
    "            num_primos.append(i)\n",
    "            break;\n",
    "                \n",
    "# Retornando o último primo encontrado        \n",
    "print(num_primos[-1])"
   ]
  }
 ],
 "metadata": {
  "kernelspec": {
   "display_name": "Python 3",
   "language": "python",
   "name": "python3"
  },
  "language_info": {
   "codemirror_mode": {
    "name": "ipython",
    "version": 3
   },
   "file_extension": ".py",
   "mimetype": "text/x-python",
   "name": "python",
   "nbconvert_exporter": "python",
   "pygments_lexer": "ipython3",
   "version": "3.7.6"
  }
 },
 "nbformat": 4,
 "nbformat_minor": 4
}
