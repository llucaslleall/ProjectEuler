{
 "cells": [
  {
   "cell_type": "markdown",
   "metadata": {},
   "source": [
    "Observe que se a gente for criar essa matriz 1001 x 1001 a gente teria um esforço computacional muito grande\n",
    "O que podemos fazer é tentar entender a regra de formação da diagonal\n",
    "\n",
    "Observe que na diagonal abaixo superior direita os números são: 1, 9 e 25\n",
    "- Esses números são iguais a 1, 3 e 5 ao quadrado\n",
    "\n",
    "Já na diagonal superior para a esquerda temos: 1, 7 e 21\n",
    "- 7 é igual a 9 - 2\n",
    "- 21 é igual a 25 - 4\n",
    "- A próxima seria 43 = 49 - 6\n",
    "    \n",
    "Usando isso para as próximas diagonais a gente poderia ter que:\n",
    "- Diagonal superior para a direita: n**2\n",
    "- Diagonal superior para a esquerda: n**2 - (n-1).1\n",
    "- Diagonal inferior para a esquerda: n**2 - (n-1).2\n",
    "- Diagonal inferior para a direita: n**2 - (n-1).3\n",
    "    - Nesse caso, n sempre vai variar de 2 em 2"
   ]
  },
  {
   "cell_type": "code",
   "execution_count": 7,
   "metadata": {},
   "outputs": [
    {
     "name": "stdout",
     "output_type": "stream",
     "text": [
      "3\n",
      "5\n",
      "101\n"
     ]
    }
   ],
   "source": [
    "# Para somar os valores das diagonais, podemos fazer que:\n",
    "\n",
    "# Testando para a matriz 5x5:\n",
    "matriz = 5\n",
    "\n",
    "# Já vamos desconsiderar o 1 pois ele não segue a mesma lei de formação\n",
    "i = 3\n",
    "soma_diagonal = 1\n",
    "while i <= matriz:\n",
    "    soma_diagonal += i**2 + (i**2 - (i-1)*1) + (i**2 - (i-1)*2) + (i**2 - (i-1)*3)\n",
    "    i += 2\n",
    "    \n",
    "print(soma_diagonal)"
   ]
  },
  {
   "cell_type": "code",
   "execution_count": 8,
   "metadata": {},
   "outputs": [
    {
     "name": "stdout",
     "output_type": "stream",
     "text": [
      "669171001\n"
     ]
    }
   ],
   "source": [
    "# Agora fazendo para a matriz 1001 x 1001\n",
    "matriz = 1001\n",
    "\n",
    "# Já vamos desconsiderar o 1 pois ele não segue a mesma lei de formação\n",
    "i = 3\n",
    "soma_diagonal = 1\n",
    "while i <= matriz:\n",
    "    soma_diagonal += i**2 + (i**2 - (i-1)*1) + (i**2 - (i-1)*2) + (i**2 - (i-1)*3)\n",
    "    i += 2\n",
    "    \n",
    "print(soma_diagonal)"
   ]
  }
 ],
 "metadata": {
  "kernelspec": {
   "display_name": "Python 3",
   "language": "python",
   "name": "python3"
  },
  "language_info": {
   "codemirror_mode": {
    "name": "ipython",
    "version": 3
   },
   "file_extension": ".py",
   "mimetype": "text/x-python",
   "name": "python",
   "nbconvert_exporter": "python",
   "pygments_lexer": "ipython3",
   "version": "3.8.5"
  }
 },
 "nbformat": 4,
 "nbformat_minor": 4
}
