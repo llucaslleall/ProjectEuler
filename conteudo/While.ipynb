{
 "cells": [
  {
   "cell_type": "markdown",
   "metadata": {
    "id": "elkKw2lVqATk"
   },
   "source": [
    "# While\n",
    "\n",
    "Assim como o for, o **while é um laço usado para repetir um comando** um número **finito** de vezes\n",
    "\n",
    "Enquanto no **for** só conseguimos **fazer o laço em uma lista de valores** (não necessariamente numéricos), no while é possível realizar a execução até que a condição seja satisfeira\n",
    "\n",
    "**Atenção:**\n",
    "- Ao usar o while, tenha muito cuidado para o laço não ser infinito!"
   ]
  },
  {
   "cell_type": "markdown",
   "metadata": {
    "id": "1ZCYYqQ8rCf-"
   },
   "source": [
    "Se temos uma lista como a mostrada abaixo"
   ]
  },
  {
   "cell_type": "code",
   "execution_count": 1,
   "metadata": {
    "id": "zPHf-_yGp-Fi"
   },
   "outputs": [],
   "source": [
    "lista = ['a',2,'teste','Lucas']"
   ]
  },
  {
   "cell_type": "markdown",
   "metadata": {
    "id": "dzzd3WdprOYi"
   },
   "source": [
    "Podemos usar tanto o for quanto o while \n",
    "(não vamos mostrar o for com detalhes, voltaremos nesse ponto em outro link)"
   ]
  },
  {
   "cell_type": "code",
   "execution_count": 3,
   "metadata": {
    "colab": {
     "base_uri": "https://localhost:8080/"
    },
    "id": "gS9ri0m4rK0U",
    "outputId": "ecc10219-7706-47f2-8c3b-5803e7ace243"
   },
   "outputs": [
    {
     "name": "stdout",
     "output_type": "stream",
     "text": [
      "a\n",
      "2\n",
      "teste\n",
      "Lucas\n"
     ]
    }
   ],
   "source": [
    "# Para usar o for, podemos fazer diretamente:\n",
    "for i in lista:\n",
    "  print(i)"
   ]
  },
  {
   "cell_type": "code",
   "execution_count": 5,
   "metadata": {
    "colab": {
     "base_uri": "https://localhost:8080/"
    },
    "id": "nrqBsYCwrVxA",
    "outputId": "60d1e60e-2f67-451c-86fa-6ad586d38892"
   },
   "outputs": [
    {
     "name": "stdout",
     "output_type": "stream",
     "text": [
      "a\n",
      "2\n",
      "teste\n",
      "Lucas\n"
     ]
    }
   ],
   "source": [
    "# Já para o while, devemos percorrer cada elemento dessa lista\n",
    "\n",
    "# Para isso vamos definir a posição zero\n",
    "posicao = 0\n",
    "\n",
    "# E percorrer enquanto a posicao for menor que o tamanho da lista\n",
    "while posicao < len(lista):  # len(lista) retorna o tamanho dessa lista\n",
    "\n",
    "  # Para fazer o print, vamos pegar o elemento da lista naquela posição\n",
    "  print(lista[posicao])\n",
    "\n",
    "  # E para continuar percorrendo a lista, vamos adicionar +1 na posição atual\n",
    "  posicao = posicao + 1"
   ]
  },
  {
   "cell_type": "markdown",
   "metadata": {
    "id": "zbBk2SjFr9PP"
   },
   "source": [
    "### IMPORTANTE\n",
    "\n",
    "Fazer o **posicao = posicao+1** é muito importante para **evitar que o laço seja inifinito**\n",
    "\n",
    "Se não fizermos isso, o laço ficará executando pra sempre e poderá quebrar o nosso código"
   ]
  },
  {
   "cell_type": "markdown",
   "metadata": {
    "id": "s4JkjE_yrzMg"
   },
   "source": [
    "Outra vantagem do while é que podemos usá-lo **mesmo fora de uma lista**\n",
    "\n",
    "Por exemplo, se queremos executar um processo **ATÉ QUE UMA CONDIÇÃO SEJA SATISFEITA** mas não sabemos quando isso vai acontecer, podemos colocar a condição como aquilo que irá parar o laço.\n",
    "Para ficar mais claro vamos usar um exemplo, queremos todos os números da sequência de Fibonacci menores que 100.\n",
    "\n",
    "Obs: a sequência de Fibonacci é dada sempre somando os 2 números anteriores da lista"
   ]
  },
  {
   "cell_type": "code",
   "execution_count": 2,
   "metadata": {},
   "outputs": [
    {
     "name": "stdout",
     "output_type": "stream",
     "text": [
      "3\n",
      "5\n",
      "8\n",
      "13\n",
      "21\n",
      "34\n",
      "55\n",
      "89\n",
      "144\n"
     ]
    }
   ],
   "source": [
    "# Pegando os 2 primeiros valores dessa sequência:\n",
    "num1 = 1\n",
    "num2 = 1\n",
    "num_seguinte = num1 + num2\n",
    "\n",
    "# Enquanto o número seguinte for menor que 100 eu vou executar\n",
    "while num_seguinte < 100:\n",
    "    \n",
    "    # Quando eu dou um \"passo\" na sequência o num1 passa a ser o num2 e o num2 passa a ser o num_seguinte\n",
    "    # E então calculamos novamente o num_seguinte\n",
    "    # (Uma outra forma de fazer a sequência de Fibonacci e uma explicação melhor sobre ela é mostrada no ex 2)\n",
    "    # https://github.com/llucaslleall/ProjectEuler/blob/main/Ex_002.ipynb\n",
    "    \n",
    "    num1 = num2\n",
    "    num2 = num_seguinte\n",
    "    \n",
    "    # E novamente vamos fazer o mesmo cálculo para encontrar o num_seguinte\n",
    "    num_seguinte = num1 + num2\n",
    "    \n",
    "    # Para conseguir acompanhar vamos printar todos os números\n",
    "    print(num_seguinte)"
   ]
  },
  {
   "cell_type": "markdown",
   "metadata": {},
   "source": [
    "Observe que ele printou o 144, mas como se **144 é maior que 100**?\n",
    "\n",
    "O que acontece é o seguinte:\n",
    "\n",
    "- Ele achou que **num_seguinte é 55**:\n",
    "    - Ele faz que num1 = 34 e num2 = 55 -> num_seguinte = 89\n",
    "        - Ele printa o 89\n",
    "            - Ele **volta no while** e valida: **89 é menor que 100? Sim! Continua o laço**\n",
    "            \n",
    "- Então ele chega em **num_seguinte é 89**:\n",
    "    - Ele faz que num1 = 55 e num2 = 89 -> num_seguinte = 144\n",
    "        - Ele printa o 144 **(Observe que aqui ele ainda não validou a condição do while)**\n",
    "            - Ele **volta no while** e valida: **144 é menor que 100? Não! Quebra o laço**"
   ]
  },
  {
   "cell_type": "markdown",
   "metadata": {},
   "source": [
    "- Também podemos usar o **break** para forçar a parada de execução, para isso vamos precisar **combinar o while com um if**\n",
    "\n",
    "- Uma opção com o break é usar o **while True**, que vai executar sempre e **só para através do break (CUIDADO!)**\n",
    "\n",
    "Fazendo o mesmo exemplo acima com o break:"
   ]
  },
  {
   "cell_type": "code",
   "execution_count": 3,
   "metadata": {},
   "outputs": [
    {
     "name": "stdout",
     "output_type": "stream",
     "text": [
      "3\n",
      "5\n",
      "8\n",
      "13\n",
      "21\n",
      "34\n",
      "55\n",
      "89\n"
     ]
    }
   ],
   "source": [
    "num1 = 1\n",
    "num2 = 1\n",
    "num_seguinte = num1 + num2\n",
    "\n",
    "while True:\n",
    "    num1 = num2\n",
    "    num2 = num_seguinte\n",
    "    \n",
    "    num_seguinte = num1 + num2\n",
    "    \n",
    "    if(num_seguinte > 100):\n",
    "        break\n",
    "    \n",
    "    print(num_seguinte)"
   ]
  },
  {
   "cell_type": "markdown",
   "metadata": {},
   "source": [
    "Nesse caso, como colocamos a condição do break antes do print, ele não printou o valor maior que 100."
   ]
  }
 ],
 "metadata": {
  "colab": {
   "name": "While",
   "provenance": []
  },
  "kernelspec": {
   "display_name": "Python 3",
   "language": "python",
   "name": "python3"
  },
  "language_info": {
   "codemirror_mode": {
    "name": "ipython",
    "version": 3
   },
   "file_extension": ".py",
   "mimetype": "text/x-python",
   "name": "python",
   "nbconvert_exporter": "python",
   "pygments_lexer": "ipython3",
   "version": "3.8.5"
  }
 },
 "nbformat": 4,
 "nbformat_minor": 1
}
