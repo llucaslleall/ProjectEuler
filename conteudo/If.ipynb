{
 "cells": [
  {
   "cell_type": "markdown",
   "metadata": {},
   "source": [
    "# IF\n",
    "\n",
    "O if é um condicional que permite **executarmos um conjunto de ações baseado em uma determinada condição**"
   ]
  },
  {
   "cell_type": "code",
   "execution_count": 1,
   "metadata": {},
   "outputs": [],
   "source": [
    "# Sendo a e b duas variáveis, vamos colocar valores aleatórios para elas\n",
    "a = 2\n",
    "b = 3"
   ]
  },
  {
   "cell_type": "code",
   "execution_count": 2,
   "metadata": {},
   "outputs": [
    {
     "name": "stdout",
     "output_type": "stream",
     "text": [
      "a é menor que b\n"
     ]
    }
   ],
   "source": [
    "if (a < b):\n",
    "    print('a é MENOR que b')"
   ]
  },
  {
   "cell_type": "markdown",
   "metadata": {},
   "source": [
    "Como a realmente é menor que b, ele fez o print"
   ]
  },
  {
   "cell_type": "code",
   "execution_count": 3,
   "metadata": {},
   "outputs": [],
   "source": [
    "if (a > b):\n",
    "    print('a é MAIOR que b')"
   ]
  },
  {
   "cell_type": "markdown",
   "metadata": {},
   "source": [
    "Como a não é maior que b, ele não fez nada"
   ]
  },
  {
   "cell_type": "markdown",
   "metadata": {},
   "source": [
    "Também é possível **usar o else para executar algum comando no caso da condição não ser satisfeira**.\n",
    "Nesse caso, ele vai verificar a condição e se ela não for verdadeira ele vai executar a sequência de comandos definida no else"
   ]
  },
  {
   "cell_type": "code",
   "execution_count": 8,
   "metadata": {},
   "outputs": [
    {
     "name": "stdout",
     "output_type": "stream",
     "text": [
      "a é MENOR que b\n"
     ]
    }
   ],
   "source": [
    "if (a > b):\n",
    "    print('a é MAIOR que b')\n",
    "else: \n",
    "    print('a é MENOR que b')"
   ]
  },
  {
   "cell_type": "markdown",
   "metadata": {},
   "source": [
    "Por fim, se queremos **validar mais de 1 condição**, podemos usar o **elif**:"
   ]
  },
  {
   "cell_type": "code",
   "execution_count": 9,
   "metadata": {},
   "outputs": [
    {
     "name": "stdout",
     "output_type": "stream",
     "text": [
      "a é MENOR que b\n"
     ]
    }
   ],
   "source": [
    "if (a == b):\n",
    "    print ('a é IGUAL a b')\n",
    "elif (a > b):\n",
    "    print('a é MAIOR que b')\n",
    "else: \n",
    "    print('a é MENOR que b')"
   ]
  },
  {
   "cell_type": "markdown",
   "metadata": {},
   "source": [
    "Exemplo:\n",
    "Em uma turma, as notas possuem relação com uma letra de avaliação (conceito), sendo:\n",
    "\n",
    "A - 8 a 10\n",
    "\n",
    "B - 6 a 7,9\n",
    "\n",
    "C - 4 a 5,9\n",
    "\n",
    "D - 2 a 3,9\n",
    "\n",
    "E - 0 a 1,9\n",
    "\n",
    "NA - Nota indisponível (aluno não fez a prova)\n",
    "\n",
    "Vamos receber a nota e retornar o conceito do aluno"
   ]
  },
  {
   "cell_type": "code",
   "execution_count": 29,
   "metadata": {},
   "outputs": [],
   "source": [
    "# Inserir a nota (usar ponto para separação decimal)\n",
    "nota = 0"
   ]
  },
  {
   "cell_type": "code",
   "execution_count": 30,
   "metadata": {},
   "outputs": [
    {
     "name": "stdout",
     "output_type": "stream",
     "text": [
      "E\n"
     ]
    }
   ],
   "source": [
    "if (nota >= 8):\n",
    "    print('A')\n",
    "elif (nota >= 6):\n",
    "    print('B')\n",
    "elif (nota >= 4):\n",
    "    print('C')\n",
    "elif (nota >= 2):\n",
    "    print('D')\n",
    "elif (nota >= 0):\n",
    "    print('E')\n",
    "else:\n",
    "    print('NA')"
   ]
  },
  {
   "cell_type": "code",
   "execution_count": null,
   "metadata": {},
   "outputs": [],
   "source": []
  }
 ],
 "metadata": {
  "kernelspec": {
   "display_name": "Python 3",
   "language": "python",
   "name": "python3"
  },
  "language_info": {
   "codemirror_mode": {
    "name": "ipython",
    "version": 3
   },
   "file_extension": ".py",
   "mimetype": "text/x-python",
   "name": "python",
   "nbconvert_exporter": "python",
   "pygments_lexer": "ipython3",
   "version": "3.8.5"
  }
 },
 "nbformat": 4,
 "nbformat_minor": 4
}
