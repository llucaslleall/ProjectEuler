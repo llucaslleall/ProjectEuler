{
 "cells": [
  {
   "cell_type": "code",
   "execution_count": 11,
   "metadata": {},
   "outputs": [],
   "source": [
    "# Criando uma lista para guardar os números\n",
    "lista = []\n",
    "\n",
    "# Valor da potência:\n",
    "n = 5\n",
    "\n",
    "# Buscando até o número onde todos os números da soma sejam 9**n \n",
    "limite = (9**n)*n\n",
    "\n",
    "# Buscando em todos os valores\n",
    "i = 2\n",
    "while i < limite:\n",
    "    \n",
    "    # Vamos transformar em uma string para conseguir percorrer esse número\n",
    "    str_i = str(i)\n",
    "    \n",
    "    # E para cada elemento desse número vamos elevar a potência\n",
    "    soma_pot = 0\n",
    "    for j in str_i:\n",
    "        soma_pot += int(j)**n\n",
    "        \n",
    "    # Para validar se o número pode ser escrito como a potência dos seus dígitos    \n",
    "    if(i == soma_pot):\n",
    "        lista.append(i)\n",
    "        \n",
    "    i += 1"
   ]
  },
  {
   "cell_type": "code",
   "execution_count": 12,
   "metadata": {},
   "outputs": [
    {
     "name": "stdout",
     "output_type": "stream",
     "text": [
      "[4150, 4151, 54748, 92727, 93084, 194979]\n"
     ]
    }
   ],
   "source": [
    "print(lista)"
   ]
  },
  {
   "cell_type": "code",
   "execution_count": 13,
   "metadata": {},
   "outputs": [
    {
     "name": "stdout",
     "output_type": "stream",
     "text": [
      "443839\n"
     ]
    }
   ],
   "source": [
    "# Somando todos os valores dessa lista\n",
    "soma_lista = 0\n",
    "for i in lista:\n",
    "    soma_lista += i\n",
    "    \n",
    "print(soma_lista)"
   ]
  },
  {
   "cell_type": "code",
   "execution_count": null,
   "metadata": {},
   "outputs": [],
   "source": []
  }
 ],
 "metadata": {
  "kernelspec": {
   "display_name": "Python 3",
   "language": "python",
   "name": "python3"
  },
  "language_info": {
   "codemirror_mode": {
    "name": "ipython",
    "version": 3
   },
   "file_extension": ".py",
   "mimetype": "text/x-python",
   "name": "python",
   "nbconvert_exporter": "python",
   "pygments_lexer": "ipython3",
   "version": "3.8.5"
  }
 },
 "nbformat": 4,
 "nbformat_minor": 4
}
