{
 "cells": [
  {
   "cell_type": "code",
   "execution_count": 52,
   "metadata": {},
   "outputs": [],
   "source": [
    "# Criando uma função que busca o próximo primo\n",
    "def proximo_primo(lista):\n",
    "    \n",
    "    # Garantindo que a lista não veio vazia\n",
    "    if(lista):\n",
    "        inicio_busca = lista[-1]\n",
    "    else:\n",
    "        return 2\n",
    "    \n",
    "    # Se o primeiro elemento for 2, já vamos retornar o 3\n",
    "    # Vamos fazer isso para o passo poder ser 2\n",
    "    if(inicio_busca == 2):\n",
    "        return 3\n",
    "    else:\n",
    "        # Usando a mesma lógica do exercício 3\n",
    "        i = inicio_busca\n",
    "        while True:\n",
    "            cont = 0\n",
    "            for j in lista:\n",
    "                if(i%j == 0):\n",
    "                    cont = cont + 1 \n",
    "                # Se tiver 1 divisor nessa lista já podemos passar para o próximo valor pois não é primo\n",
    "                if(cont > 0):\n",
    "                    break\n",
    "\n",
    "            # Se não foi encontrado nenhum divisor (não consideramos o 1 e ele mesmo ainda não estará na lista) vamos adicionar a lista de primos\n",
    "            if(cont == 0):\n",
    "                return i\n",
    "                break \n",
    "            i += 2"
   ]
  },
  {
   "cell_type": "code",
   "execution_count": 59,
   "metadata": {},
   "outputs": [
    {
     "name": "stdout",
     "output_type": "stream",
     "text": [
      "76576500 576\n"
     ]
    }
   ],
   "source": [
    "# Definindo o número limite de divisores\n",
    "limite = 500\n",
    "qtd_divisores = 0\n",
    "\n",
    "# Selecionando os valores de início\n",
    "numero = 0\n",
    "num_divisores = 2\n",
    "seq = 0\n",
    "\n",
    "# Declarando a lista com os 2 primeiros números primos\n",
    "num_primos = [2,3]\n",
    "\n",
    "# Vamos fatorar o número para encontrar o número de divisores\n",
    "while qtd_divisores < limite:\n",
    "\n",
    "    # Definindo o próximo número considerando a condição dada\n",
    "    seq += 1\n",
    "    numero += seq  \n",
    "    \n",
    "    # Vamos definir a quantidade de vezes que cada expoente aparece\n",
    "    # Para podermos usar a fórmula da quantidade de expoentes de um número\n",
    "    qtd_expoente = []\n",
    "    \n",
    "    num = numero\n",
    "    \n",
    "    while num > 1:\n",
    "        \n",
    "        # Vamos percorrer todos os números primos da primeira vez\n",
    "        for i in num_primos:\n",
    "            num_divisores = 0\n",
    "            while num%i == 0:\n",
    "                num = num/i\n",
    "                num_divisores += 1\n",
    "            qtd_expoente.append(num_divisores)\n",
    "        \n",
    "        # Enquanto não chegarmos em 1 (tivermos fatorado o número completamente)\n",
    "        while num > 1:\n",
    "            \n",
    "            # Se já fatoramos por todos os primos, precisamos buscar o próximo valor primo\n",
    "            proximo = proximo_primo(num_primos)\n",
    "            num_primos.append(proximo)\n",
    "\n",
    "            # E vamos fatorar pelo número encontrado\n",
    "            num_divisores = 0\n",
    "            while num%proximo == 0:\n",
    "                num = num/proximo\n",
    "                num_divisores += 1\n",
    "            qtd_expoente.append(num_divisores)\n",
    "      \n",
    "    # Por fim, vamos usar a propriedade que o total de divisores de um número é o produto dos expoentes+1\n",
    "    qtd_divisores = 1\n",
    "    for i in qtd_expoente:\n",
    "        qtd_divisores *= (i+1)  \n",
    "  \n",
    "print(numero, qtd_divisores)"
   ]
  }
 ],
 "metadata": {
  "kernelspec": {
   "display_name": "Python 3",
   "language": "python",
   "name": "python3"
  },
  "language_info": {
   "codemirror_mode": {
    "name": "ipython",
    "version": 3
   },
   "file_extension": ".py",
   "mimetype": "text/x-python",
   "name": "python",
   "nbconvert_exporter": "python",
   "pygments_lexer": "ipython3",
   "version": "3.7.6"
  }
 },
 "nbformat": 4,
 "nbformat_minor": 4
}
