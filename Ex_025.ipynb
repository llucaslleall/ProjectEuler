{
 "cells": [
  {
   "cell_type": "code",
   "execution_count": 19,
   "metadata": {},
   "outputs": [],
   "source": [
    "# Vamos usar parte do código do exercício 2, mudando para contar a quantidade de dígitos\n",
    "limite = 1000\n",
    "\n",
    "# Definindo os 2 primeiros números na sequência\n",
    "# OBS: no exercício 2 começamos com 1 e 2 pois o exercício orientava dessa forma, aqui vamos começar com 1 e 1\n",
    "fib = [1,1]\n",
    "\n",
    "# Verificando o tamanho do último dígito \n",
    "#\n",
    "while len(str(fib[-1])) < limite:\n",
    "    \n",
    "    # O próximo número sempre será a soma dos 2 anteriores\n",
    "    num = fib[-1] + fib[-2]\n",
    "    \n",
    "    # Adicionando esse número a lista\n",
    "    fib.append(num)"
   ]
  },
  {
   "cell_type": "code",
   "execution_count": 20,
   "metadata": {},
   "outputs": [
    {
     "data": {
      "text/plain": [
       "4782"
      ]
     },
     "execution_count": 20,
     "metadata": {},
     "output_type": "execute_result"
    }
   ],
   "source": [
    "# Retornando a posição do último número (é o mesmo que o tamanho da lista)\n",
    "len(fib)"
   ]
  },
  {
   "cell_type": "code",
   "execution_count": null,
   "metadata": {},
   "outputs": [],
   "source": []
  }
 ],
 "metadata": {
  "kernelspec": {
   "display_name": "Python 3",
   "language": "python",
   "name": "python3"
  },
  "language_info": {
   "codemirror_mode": {
    "name": "ipython",
    "version": 3
   },
   "file_extension": ".py",
   "mimetype": "text/x-python",
   "name": "python",
   "nbconvert_exporter": "python",
   "pygments_lexer": "ipython3",
   "version": "3.7.6"
  }
 },
 "nbformat": 4,
 "nbformat_minor": 4
}
