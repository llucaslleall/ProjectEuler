{
 "cells": [
  {
   "cell_type": "code",
   "execution_count": 9,
   "metadata": {},
   "outputs": [
    {
     "name": "stdout",
     "output_type": "stream",
     "text": [
      "[1, 2, 3, 5, 8, 13, 21, 34, 55, 89]\n"
     ]
    }
   ],
   "source": [
    "limite = 10\n",
    "\n",
    "# Definindo os 2 primeiros números na sequência\n",
    "fib = [1,2]\n",
    "\n",
    "# Como ele fala dos primeiros 10 termos, vamos achar esses valores\n",
    "while len(fib) < limite:\n",
    "    \n",
    "    # O próximo número sempre será a soma dos 2 anteriores\n",
    "    num = fib[-1] + fib[-2]\n",
    "    \n",
    "    # Adicionando esse número a lista\n",
    "    fib.append(num)\n",
    "    \n",
    "print(fib)"
   ]
  },
  {
   "cell_type": "code",
   "execution_count": 10,
   "metadata": {},
   "outputs": [],
   "source": [
    "# Depois ele pede que o número seja menor que 4.000.000, então não vamos ter mais o limite de números o sim limite do valor\n",
    "limite = 4000000\n",
    "\n",
    "\n",
    "# Definindo os 2 primeiros números na sequência\n",
    "fib = [1,2]\n",
    "\n",
    "# Agora vamos validar o último número\n",
    "while fib[-1] < limite:\n",
    "    \n",
    "    # O próximo número sempre será a soma dos 2 anteriores\n",
    "    num = fib[-1] + fib[-2]\n",
    "    \n",
    "    # Adicionando esse número a lista\n",
    "    # Antes vamos garantir que só vamos adicionar valores menores que 4.000.000\n",
    "    fib.append(num)"
   ]
  },
  {
   "cell_type": "code",
   "execution_count": 11,
   "metadata": {},
   "outputs": [
    {
     "name": "stdout",
     "output_type": "stream",
     "text": [
      "5702887\n",
      "3524578\n"
     ]
    }
   ],
   "source": [
    "# Observe que o primeiro valor após o 4.000.000 vai entrar na lista pois primeiro ele fez o cálculo e depois validou a condição do while\n",
    "print(fib[-1])\n",
    "\n",
    "# Então podemos fazer o seguinte comando para retirar esse valor\n",
    "fib.pop(-1)\n",
    "\n",
    "print(fib[-1])"
   ]
  },
  {
   "cell_type": "code",
   "execution_count": 12,
   "metadata": {},
   "outputs": [
    {
     "name": "stdout",
     "output_type": "stream",
     "text": [
      "4613732\n"
     ]
    }
   ],
   "source": [
    "# Porém, o que ele pede é a soma de todos os números pares\n",
    "# Então podemos fazer\n",
    "\n",
    "soma = 0\n",
    "for i in fib:\n",
    "    if(i%2 == 0):\n",
    "        soma += i\n",
    "    \n",
    "print(soma)"
   ]
  }
 ],
 "metadata": {
  "kernelspec": {
   "display_name": "Python 3",
   "language": "python",
   "name": "python3"
  },
  "language_info": {
   "codemirror_mode": {
    "name": "ipython",
    "version": 3
   },
   "file_extension": ".py",
   "mimetype": "text/x-python",
   "name": "python",
   "nbconvert_exporter": "python",
   "pygments_lexer": "ipython3",
   "version": "3.7.6"
  }
 },
 "nbformat": 4,
 "nbformat_minor": 4
}
