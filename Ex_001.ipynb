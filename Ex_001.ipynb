{
 "cells": [
  {
   "cell_type": "code",
   "execution_count": 5,
   "metadata": {},
   "outputs": [
    {
     "name": "stdout",
     "output_type": "stream",
     "text": [
      "233168\n"
     ]
    }
   ],
   "source": [
    "num = 1000\n",
    "\n",
    "# Criando uma variável que vai somando os números que satisfizerem a condição\n",
    "soma = 0\n",
    "\n",
    "i = 1\n",
    "\n",
    "# Percorrendo a quantidade de números selecionados\n",
    "while i < num:\n",
    "    \n",
    "    # Caso seja divisor de 3 ou 5\n",
    "    if (i%3 == 0 or i%5 == 0):\n",
    "        \n",
    "        #Vamos adicionar esse valor a soma\n",
    "        soma += i\n",
    "    \n",
    "    i += 1\n",
    "\n",
    "print(soma)"
   ]
  }
 ],
 "metadata": {
  "kernelspec": {
   "display_name": "Python 3",
   "language": "python",
   "name": "python3"
  },
  "language_info": {
   "codemirror_mode": {
    "name": "ipython",
    "version": 3
   },
   "file_extension": ".py",
   "mimetype": "text/x-python",
   "name": "python",
   "nbconvert_exporter": "python",
   "pygments_lexer": "ipython3",
   "version": "3.7.6"
  }
 },
 "nbformat": 4,
 "nbformat_minor": 4
}
