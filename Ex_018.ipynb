{
 "cells": [
  {
   "cell_type": "code",
   "execution_count": 60,
   "metadata": {},
   "outputs": [],
   "source": [
    "# Importando o arquivo\n",
    "arquivo = open(\"dados_ex18.txt\",\"r\")"
   ]
  },
  {
   "cell_type": "code",
   "execution_count": 61,
   "metadata": {},
   "outputs": [],
   "source": [
    "# Percorrendo todas as linhas\n",
    "matriz_exerc = []\n",
    "\n",
    "for linha in arquivo:\n",
    "    # Separando as linhas\n",
    "    val_linhas = linha.split('\\n')\n",
    "    \n",
    "    # Separando os elementos dentro das linhas\n",
    "    val_linhas = val_linhas[0].split(' ')\n",
    "    \n",
    "    # E adicionando esse elemento na matriz\n",
    "    matriz_exerc.append(val_linhas)"
   ]
  },
  {
   "cell_type": "code",
   "execution_count": 62,
   "metadata": {},
   "outputs": [
    {
     "data": {
      "text/plain": [
       "[['75'],\n",
       " ['95', '64'],\n",
       " ['17', '47', '82'],\n",
       " ['18', '35', '87', '10'],\n",
       " ['20', '04', '82', '47', '65'],\n",
       " ['19', '01', '23', '75', '03', '34'],\n",
       " ['88', '02', '77', '73', '07', '63', '67'],\n",
       " ['99', '65', '04', '28', '06', '16', '70', '92'],\n",
       " ['41', '41', '26', '56', '83', '40', '80', '70', '33'],\n",
       " ['41', '48', '72', '33', '47', '32', '37', '16', '94', '29'],\n",
       " ['53', '71', '44', '65', '25', '43', '91', '52', '97', '51', '14'],\n",
       " ['70', '11', '33', '28', '77', '73', '17', '78', '39', '68', '17', '57'],\n",
       " ['91',\n",
       "  '71',\n",
       "  '52',\n",
       "  '38',\n",
       "  '17',\n",
       "  '14',\n",
       "  '91',\n",
       "  '43',\n",
       "  '58',\n",
       "  '50',\n",
       "  '27',\n",
       "  '29',\n",
       "  '48'],\n",
       " ['63',\n",
       "  '66',\n",
       "  '04',\n",
       "  '68',\n",
       "  '89',\n",
       "  '53',\n",
       "  '67',\n",
       "  '30',\n",
       "  '73',\n",
       "  '16',\n",
       "  '69',\n",
       "  '87',\n",
       "  '40',\n",
       "  '31'],\n",
       " ['04',\n",
       "  '62',\n",
       "  '98',\n",
       "  '27',\n",
       "  '23',\n",
       "  '09',\n",
       "  '70',\n",
       "  '98',\n",
       "  '73',\n",
       "  '93',\n",
       "  '38',\n",
       "  '53',\n",
       "  '60',\n",
       "  '04',\n",
       "  '23']]"
      ]
     },
     "execution_count": 62,
     "metadata": {},
     "output_type": "execute_result"
    }
   ],
   "source": [
    "matriz_exerc"
   ]
  },
  {
   "cell_type": "markdown",
   "metadata": {},
   "source": [
    "Nesse exercício eu estava com dificuldade na hora de fazer sem força bruta\n",
    "\n",
    "Então busquei alguns direcionamentos na internet e encontrei esse site:\n",
    "https://lucidmanager.org/data-science/project-euler-18/\n",
    "\n",
    "A explicação é basicamente o que está mostrado abaixo"
   ]
  },
  {
   "cell_type": "markdown",
   "metadata": {},
   "source": [
    "O próprio exercício sugere que não seja usado força bruta para testar todos os caminhos\n",
    "\n",
    "O que podemos fazer é pensar no triângulo inicial caso ele tenha apenas 3 linhas\n",
    "\n",
    "  3\n",
    " 7 4\n",
    "2 4 6\n",
    "\n",
    "Observe que seria fácil verificar todas as opções:\n",
    "\n",
    "3 + 7 + 2 = 12\n",
    "3 + 7 + 4 = 14\n",
    "3 + 4 + 4 = 11\n",
    "3 + 4 + 6 = 13\n",
    "\n",
    "Observe que definindo os 2 últimos números a gente já saberia qual o melhor caminho a seguir:\n",
    "\n",
    "7 + 2 = 9\n",
    "7 + 4 = 11\n",
    "4 + 4 = 8\n",
    "4 + 6 = 10\n",
    "\n",
    "Então poderíamos fazer de baixo pra cima todas essas opções:\n",
    "\n",
    "    3\n",
    " (7) (4)  -> não vamos considerar essa linha, apenas para visualizarmos \n",
    "9 11 8 10\n",
    "\n",
    "Das opções, vamos usar aquela que tem a maior soma, ficando com:\n",
    "\n",
    "  3\n",
    "11 10\n",
    "\n",
    "Vamos subir novamente e ver que\n",
    "\n",
    " (3)\n",
    "14 13\n",
    "\n",
    "Nesse caso, o que fica seria\n",
    "\n",
    " 14\n",
    " \n",
    "Pegamos essa lógica do site acima, agora vamos aplicar em Python primeiro para a matriz do exemplo"
   ]
  },
  {
   "cell_type": "code",
   "execution_count": 48,
   "metadata": {},
   "outputs": [],
   "source": [
    "matriz_exemplo = [[3],[7,4],[2,4,6],[8,5,9,3]]"
   ]
  },
  {
   "cell_type": "code",
   "execution_count": 49,
   "metadata": {},
   "outputs": [
    {
     "name": "stdout",
     "output_type": "stream",
     "text": [
      "[[3], [7, 4], [2, 4, 6], [8, 5, 9, 3]]\n",
      "[[3], [7, 4], [10, 4, 6], [8, 5, 9, 3]]\n",
      "[[3], [7, 4], [10, 13, 6], [8, 5, 9, 3]]\n",
      "[[3], [7, 4], [10, 13, 15], [8, 5, 9, 3]]\n",
      "[[3], [20, 4], [10, 13, 15], [8, 5, 9, 3]]\n",
      "[[3], [20, 19], [10, 13, 15], [8, 5, 9, 3]]\n"
     ]
    }
   ],
   "source": [
    "# Começando no último elemento da matriz\n",
    "i = len(matriz_exemplo) - 1\n",
    "# Percorendo até o primeiro elemento\n",
    "while i > 0:\n",
    "    j = 0\n",
    "    while j < len(matriz_exemplo[i]) - 1:\n",
    "        \n",
    "        # Fazendo o print para acompanhar linha a linha\n",
    "        print(matriz_exemplo)\n",
    "        \n",
    "        # Sempre vamos comparar 2 elementos em sequência com o elemento da linha \"de cima\" (como na explicação)\n",
    "        if(matriz_exemplo[i][j] + matriz_exemplo[i-1][j] >= matriz_exemplo[i][j+1] + matriz_exemplo[i-1][j]):\n",
    "            matriz_exemplo[i-1][j] = matriz_exemplo[i][j] + matriz_exemplo[i-1][j]\n",
    "        else:\n",
    "            matriz_exemplo[i-1][j] = matriz_exemplo[i][j+1] + matriz_exemplo[i-1][j]\n",
    "        j += 1\n",
    "    i -= 1"
   ]
  },
  {
   "cell_type": "code",
   "execution_count": 50,
   "metadata": {},
   "outputs": [
    {
     "data": {
      "text/plain": [
       "[[23], [20, 19], [10, 13, 15], [8, 5, 9, 3]]"
      ]
     },
     "execution_count": 50,
     "metadata": {},
     "output_type": "execute_result"
    }
   ],
   "source": [
    "# A matriz resultante seria\n",
    "matriz_exemplo"
   ]
  },
  {
   "cell_type": "code",
   "execution_count": 51,
   "metadata": {},
   "outputs": [
    {
     "name": "stdout",
     "output_type": "stream",
     "text": [
      "23\n"
     ]
    }
   ],
   "source": [
    "# E o maior valor é\n",
    "print(matriz_exemplo[0][0])"
   ]
  },
  {
   "cell_type": "code",
   "execution_count": 64,
   "metadata": {},
   "outputs": [],
   "source": [
    "# Usando a mesma lógica\n",
    "def maximo_matriz(matriz):\n",
    "    i = len(matriz) - 1\n",
    "\n",
    "    while i > 0:\n",
    "        j = 0\n",
    "        while j < len(matriz[i]) - 1:\n",
    "        \n",
    "            # Sempre vamos comparar 2 elementos em sequência com o elemento da linha \"de cima\" (como na explicação)\n",
    "            if(int(matriz[i][j]) + int(matriz[i-1][j]) >= int(matriz[i][j+1]) + int(matriz[i-1][j])):\n",
    "                matriz[i-1][j] = int(matriz[i][j]) + int(matriz[i-1][j])\n",
    "            else:\n",
    "                matriz[i-1][j] = int(matriz[i][j+1]) + int(matriz[i-1][j])\n",
    "            j += 1\n",
    "        i -= 1\n",
    "    \n",
    "    return matriz"
   ]
  },
  {
   "cell_type": "code",
   "execution_count": 63,
   "metadata": {},
   "outputs": [
    {
     "data": {
      "text/plain": [
       "[['75'],\n",
       " ['95', '64'],\n",
       " ['17', '47', '82'],\n",
       " ['18', '35', '87', '10'],\n",
       " ['20', '04', '82', '47', '65'],\n",
       " ['19', '01', '23', '75', '03', '34'],\n",
       " ['88', '02', '77', '73', '07', '63', '67'],\n",
       " ['99', '65', '04', '28', '06', '16', '70', '92'],\n",
       " ['41', '41', '26', '56', '83', '40', '80', '70', '33'],\n",
       " ['41', '48', '72', '33', '47', '32', '37', '16', '94', '29'],\n",
       " ['53', '71', '44', '65', '25', '43', '91', '52', '97', '51', '14'],\n",
       " ['70', '11', '33', '28', '77', '73', '17', '78', '39', '68', '17', '57'],\n",
       " ['91',\n",
       "  '71',\n",
       "  '52',\n",
       "  '38',\n",
       "  '17',\n",
       "  '14',\n",
       "  '91',\n",
       "  '43',\n",
       "  '58',\n",
       "  '50',\n",
       "  '27',\n",
       "  '29',\n",
       "  '48'],\n",
       " ['63',\n",
       "  '66',\n",
       "  '04',\n",
       "  '68',\n",
       "  '89',\n",
       "  '53',\n",
       "  '67',\n",
       "  '30',\n",
       "  '73',\n",
       "  '16',\n",
       "  '69',\n",
       "  '87',\n",
       "  '40',\n",
       "  '31'],\n",
       " ['04',\n",
       "  '62',\n",
       "  '98',\n",
       "  '27',\n",
       "  '23',\n",
       "  '09',\n",
       "  '70',\n",
       "  '98',\n",
       "  '73',\n",
       "  '93',\n",
       "  '38',\n",
       "  '53',\n",
       "  '60',\n",
       "  '04',\n",
       "  '23']]"
      ]
     },
     "execution_count": 63,
     "metadata": {},
     "output_type": "execute_result"
    }
   ],
   "source": [
    "# Considerando a matriz inicial\n",
    "matriz_exerc"
   ]
  },
  {
   "cell_type": "code",
   "execution_count": 65,
   "metadata": {},
   "outputs": [
    {
     "data": {
      "text/plain": [
       "[[1074],\n",
       " [995, 999],\n",
       " [818, 900, 935],\n",
       " [704, 801, 853, 792],\n",
       " [686, 640, 766, 731, 782],\n",
       " [666, 614, 636, 684, 660, 717],\n",
       " [647, 501, 613, 609, 533, 657, 683],\n",
       " [559, 499, 479, 536, 514, 526, 594, 616],\n",
       " [460, 434, 419, 475, 508, 470, 510, 524, 487],\n",
       " [419, 365, 393, 387, 419, 425, 430, 376, 454, 322],\n",
       " [378, 317, 231, 321, 354, 372, 393, 354, 360, 293, 247],\n",
       " [325, 246, 187, 178, 256, 329, 273, 302, 263, 242, 193, 233],\n",
       " [255, 235, 154, 150, 140, 179, 256, 209, 224, 172, 174, 176, 148],\n",
       " [125, 164, 102, 95, 112, 123, 165, 128, 166, 109, 122, 147, 100, 54],\n",
       " ['04',\n",
       "  '62',\n",
       "  '98',\n",
       "  '27',\n",
       "  '23',\n",
       "  '09',\n",
       "  '70',\n",
       "  '98',\n",
       "  '73',\n",
       "  '93',\n",
       "  '38',\n",
       "  '53',\n",
       "  '60',\n",
       "  '04',\n",
       "  '23']]"
      ]
     },
     "execution_count": 65,
     "metadata": {},
     "output_type": "execute_result"
    }
   ],
   "source": [
    "# Chamando a função\n",
    "maximo_matriz(matriz_exerc)"
   ]
  },
  {
   "cell_type": "code",
   "execution_count": 67,
   "metadata": {},
   "outputs": [
    {
     "name": "stdout",
     "output_type": "stream",
     "text": [
      "1074\n"
     ]
    }
   ],
   "source": [
    "# E retornando o maior valor\n",
    "print(matriz_exerc[0][0])"
   ]
  }
 ],
 "metadata": {
  "kernelspec": {
   "display_name": "Python 3",
   "language": "python",
   "name": "python3"
  },
  "language_info": {
   "codemirror_mode": {
    "name": "ipython",
    "version": 3
   },
   "file_extension": ".py",
   "mimetype": "text/x-python",
   "name": "python",
   "nbconvert_exporter": "python",
   "pygments_lexer": "ipython3",
   "version": "3.7.6"
  }
 },
 "nbformat": 4,
 "nbformat_minor": 4
}
