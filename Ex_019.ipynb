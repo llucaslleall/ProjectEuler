{
 "cells": [
  {
   "cell_type": "code",
   "execution_count": 124,
   "metadata": {},
   "outputs": [],
   "source": [
    "# Verificando se o ano é bisexto\n",
    "def ano_bisexto(ano):\n",
    "    if ano % 4 != 0:\n",
    "        return False\n",
    "    elif ano % 400 == 0:\n",
    "        return True\n",
    "    elif ano % 100 == 0:\n",
    "        return False\n",
    "    else: \n",
    "        return True"
   ]
  },
  {
   "cell_type": "code",
   "execution_count": 125,
   "metadata": {},
   "outputs": [
    {
     "data": {
      "text/plain": [
       "1"
      ]
     },
     "execution_count": 125,
     "metadata": {},
     "output_type": "execute_result"
    }
   ],
   "source": [
    "# Para saber qual dia vai ser 01 JAN 1901, podemos considerar que a cada 7 dias vamos estar em uma segunda\n",
    "# Assim, se calcularmos o resto da divisão vamos ter que:\n",
    "# 1 - segunda\n",
    "# 2 - terça\n",
    "# 3 - quarta\n",
    "# ...\n",
    "\n",
    "# Entre 01 JAN 1900 e 31 JAN 1900 temos 365 dias, assim\n",
    "365 % 7"
   ]
  },
  {
   "cell_type": "code",
   "execution_count": 126,
   "metadata": {},
   "outputs": [],
   "source": [
    "# Assim, o ano também vai terminar em uma segunda\n",
    "# Logo, o primeiro dia do próximo ano será uma TERÇA\n",
    "\n",
    "# Sendo 01 JAN 1901 uma terça, o resto da divisão é\n",
    "# 1 - terça\n",
    "# 2 - quarta\n",
    "# 3 - quinta\n",
    "# 4 - sexta\n",
    "# 5 - sábado\n",
    "# 6 - domingo\n",
    "# ..."
   ]
  },
  {
   "cell_type": "code",
   "execution_count": 139,
   "metadata": {},
   "outputs": [
    {
     "name": "stdout",
     "output_type": "stream",
     "text": [
      "171\n"
     ]
    }
   ],
   "source": [
    "# Então vamos ir procurando em cada mês para vês se o primeiro dia é domingo\n",
    "# Podemos usar essa mesma lógica sempre acrescentando os dias segundo o mês\n",
    "\n",
    "# Definindo os meses\n",
    "meses = {\n",
    "    1: 31, # Jan\n",
    "    2: 28, # Fev (não bisexto)\n",
    "    3: 31, # Mar\n",
    "    4: 30, # Abr\n",
    "    5: 31, # Mai\n",
    "    6: 30, # Jun\n",
    "    7: 31, # Jul\n",
    "    8: 31, # Ago\n",
    "    9: 30, # Set\n",
    "    10: 31, # Out\n",
    "    11: 30, # Nov\n",
    "    12: 31 # Dez\n",
    "}\n",
    "\n",
    "# Vamos percorrer todos os anos e todos os meses desses anos fazendo a lógica das datas \n",
    "\n",
    "ano_inicio = 1901\n",
    "ano_fim = 2000\n",
    "\n",
    "domingos = 0\n",
    "dias = 0\n",
    "\n",
    "while ano_inicio <= ano_fim:\n",
    "    # Vamos percorrer todos os meses\n",
    "    mes = 1\n",
    "    while mes <= 12:\n",
    "        \n",
    "        # Primeiro adicionando o númerode dias referente ao mês\n",
    "        dias += meses[mes]\n",
    "        \n",
    "        # Se o ano for bisexto e o mês for fevereiro vamos adicionar 1 ao dia\n",
    "        if (ano_bisexto(ano_inicio) == True and mes == 2):\n",
    "            dias += 1\n",
    "        \n",
    "        # Usando a mesma lógica da diferença, sempre que o resto da divisão for 6 é um domingo\n",
    "        if ((dias+1) % 7 == 6):\n",
    "            domingos += 1\n",
    "\n",
    "        mes += 1\n",
    "    \n",
    "    ano_inicio += 1\n",
    "        \n",
    "print(domingos)"
   ]
  }
 ],
 "metadata": {
  "kernelspec": {
   "display_name": "Python 3",
   "language": "python",
   "name": "python3"
  },
  "language_info": {
   "codemirror_mode": {
    "name": "ipython",
    "version": 3
   },
   "file_extension": ".py",
   "mimetype": "text/x-python",
   "name": "python",
   "nbconvert_exporter": "python",
   "pygments_lexer": "ipython3",
   "version": "3.7.6"
  }
 },
 "nbformat": 4,
 "nbformat_minor": 4
}
