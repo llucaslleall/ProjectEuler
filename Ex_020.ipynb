{
 "cells": [
  {
   "cell_type": "code",
   "execution_count": 4,
   "metadata": {},
   "outputs": [
    {
     "name": "stdout",
     "output_type": "stream",
     "text": [
      "93326215443944152681699238856266700490715968264381621468592963895217599993229915608941463976156518286253697920827223758251185210916864000000000000000000000000\n"
     ]
    }
   ],
   "source": [
    "# Número buscado\n",
    "num = 100\n",
    "\n",
    "# Vamos começar o fatorial com 1 pois como vamos multiplicar se começarmos com 0 ele vai zerar \n",
    "fatorial = 1\n",
    "\n",
    "while num > 1:\n",
    "    \n",
    "    # Multiplicando pelo número atual\n",
    "    fatorial *= num\n",
    "    \n",
    "    num -= 1\n",
    "    \n",
    "print(fatorial)    "
   ]
  },
  {
   "cell_type": "code",
   "execution_count": 5,
   "metadata": {},
   "outputs": [
    {
     "name": "stdout",
     "output_type": "stream",
     "text": [
      "648\n"
     ]
    }
   ],
   "source": [
    "# Calculando a soma do fatorial\n",
    "\n",
    "# Primeiro transformando em string para ficar mais fácil pegar número por número\n",
    "fatorial = str(fatorial)\n",
    "\n",
    "# Depois percorrendo toda essa string\n",
    "soma = 0\n",
    "\n",
    "i = 0 \n",
    "while i < len(fatorial):\n",
    "    soma += int(fatorial[i])\n",
    "    \n",
    "    i += 1\n",
    "    \n",
    "print(soma)"
   ]
  }
 ],
 "metadata": {
  "kernelspec": {
   "display_name": "Python 3",
   "language": "python",
   "name": "python3"
  },
  "language_info": {
   "codemirror_mode": {
    "name": "ipython",
    "version": 3
   },
   "file_extension": ".py",
   "mimetype": "text/x-python",
   "name": "python",
   "nbconvert_exporter": "python",
   "pygments_lexer": "ipython3",
   "version": "3.7.9"
  }
 },
 "nbformat": 4,
 "nbformat_minor": 4
}
