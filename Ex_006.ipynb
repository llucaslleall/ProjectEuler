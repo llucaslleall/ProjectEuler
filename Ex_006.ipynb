{
 "cells": [
  {
   "cell_type": "code",
   "execution_count": 1,
   "metadata": {},
   "outputs": [],
   "source": [
    "# Definindo o limite do exercício\n",
    "num = 100"
   ]
  },
  {
   "cell_type": "code",
   "execution_count": 2,
   "metadata": {},
   "outputs": [
    {
     "name": "stdout",
     "output_type": "stream",
     "text": [
      "338350\n"
     ]
    }
   ],
   "source": [
    "i = 0\n",
    "soma_quadrado = 0\n",
    "\n",
    "# De 0 até o limite\n",
    "while i <= num:\n",
    "    \n",
    "    # Vamos somando o quadrado de cada um dos números\n",
    "    soma_quadrado += i**2\n",
    "    \n",
    "    i += 1\n",
    "    \n",
    "print(soma_quadrado)"
   ]
  },
  {
   "cell_type": "code",
   "execution_count": 3,
   "metadata": {},
   "outputs": [
    {
     "name": "stdout",
     "output_type": "stream",
     "text": [
      "25502500\n"
     ]
    }
   ],
   "source": [
    "j = 0\n",
    "quadrado_soma = 0\n",
    "\n",
    "while j <= num:\n",
    "    \n",
    "    # Para o quadrado da soma, primeiro vamos somar todos os valores\n",
    "    quadrado_soma += j\n",
    "    \n",
    "    j += 1\n",
    "    \n",
    "# E só então elevar ao quadrado     \n",
    "quadrado_soma = (quadrado_soma)**2\n",
    "\n",
    "print(quadrado_soma)"
   ]
  },
  {
   "cell_type": "code",
   "execution_count": 4,
   "metadata": {},
   "outputs": [],
   "source": [
    "diferenca = quadrado_soma - soma_quadrado"
   ]
  },
  {
   "cell_type": "code",
   "execution_count": 5,
   "metadata": {},
   "outputs": [
    {
     "name": "stdout",
     "output_type": "stream",
     "text": [
      "25164150\n"
     ]
    }
   ],
   "source": [
    "print(diferenca)"
   ]
  }
 ],
 "metadata": {
  "kernelspec": {
   "display_name": "Python 3",
   "language": "python",
   "name": "python3"
  },
  "language_info": {
   "codemirror_mode": {
    "name": "ipython",
    "version": 3
   },
   "file_extension": ".py",
   "mimetype": "text/x-python",
   "name": "python",
   "nbconvert_exporter": "python",
   "pygments_lexer": "ipython3",
   "version": "3.7.6"
  }
 },
 "nbformat": 4,
 "nbformat_minor": 4
}
